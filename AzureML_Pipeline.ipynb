{
  "cells": [
    {
      "cell_type": "markdown",
      "metadata": {
        "nteract": {
          "transient": {
            "deleting": false
          }
        }
      },
      "source": [
        "### Image Classification with Tensorflow and AzureML"
      ]
    },
    {
      "cell_type": "markdown",
      "metadata": {
        "nteract": {
          "transient": {
            "deleting": false
          }
        }
      },
      "source": [
        "#### Create a Handle to the Workspace"
      ]
    },
    {
      "cell_type": "code",
      "execution_count": 1,
      "metadata": {
        "gather": {
          "logged": 1696923815919
        }
      },
      "outputs": [],
      "source": [
        "from azure.ai.ml import MLClient\n",
        "from azure.identity import DefaultAzureCredential\n",
        "\n",
        "# authenticate\n",
        "credential = DefaultAzureCredential()\n",
        "# # Get a handle to the workspace\n",
        "ml_client = MLClient(\n",
        "    credential=credential,\n",
        "    subscription_id=\"\",  # this will look like xxxxxxxx-xxxx-xxxx-xxxx-xxxxxxxxxxxx\n",
        "    resource_group_name=\"\",\n",
        "    workspace_name=\"\",\n",
        ")"
      ]
    },
    {
      "cell_type": "markdown",
      "metadata": {
        "nteract": {
          "transient": {
            "deleting": false
          }
        }
      },
      "source": [
        "#### Register Data"
      ]
    },
    {
      "cell_type": "code",
      "execution_count": 2,
      "metadata": {
        "gather": {
          "logged": 1696923818773
        },
        "jupyter": {
          "outputs_hidden": false,
          "source_hidden": false
        },
        "nteract": {
          "transient": {
            "deleting": false
          }
        }
      },
      "outputs": [],
      "source": [
        "import numpy as np"
      ]
    },
    {
      "cell_type": "code",
      "execution_count": 3,
      "metadata": {
        "gather": {
          "logged": 1696923820515
        },
        "jupyter": {
          "outputs_hidden": false,
          "source_hidden": false
        },
        "nteract": {
          "transient": {
            "deleting": false
          }
        }
      },
      "outputs": [],
      "source": [
        "# load mnist data\n",
        "\n",
        "def load_data(path):\n",
        "    with np.load(path) as f:\n",
        "        x_train, y_train = f['x_train'], f['y_train']\n",
        "        x_test, y_test = f['x_test'], f['y_test']\n",
        "        return (x_train, y_train), (x_test, y_test)\n",
        "\n",
        "(x_train, y_train), (x_test, y_test) = load_data('data/mnist.npz')"
      ]
    },
    {
      "cell_type": "code",
      "execution_count": 4,
      "metadata": {
        "gather": {
          "logged": 1696923822916
        },
        "jupyter": {
          "outputs_hidden": false,
          "source_hidden": false
        },
        "nteract": {
          "transient": {
            "deleting": false
          }
        }
      },
      "outputs": [
        {
          "data": {
            "text/plain": [
              "((60000, 28, 28), (60000,))"
            ]
          },
          "execution_count": 4,
          "metadata": {},
          "output_type": "execute_result"
        }
      ],
      "source": [
        "# train size\n",
        "x_train.shape, y_train.shape"
      ]
    },
    {
      "cell_type": "code",
      "execution_count": 5,
      "metadata": {
        "gather": {
          "logged": 1696923825624
        },
        "jupyter": {
          "outputs_hidden": false,
          "source_hidden": false
        },
        "nteract": {
          "transient": {
            "deleting": false
          }
        }
      },
      "outputs": [
        {
          "data": {
            "text/plain": [
              "((10000, 28, 28), (60000,))"
            ]
          },
          "execution_count": 5,
          "metadata": {},
          "output_type": "execute_result"
        }
      ],
      "source": [
        "# test size\n",
        "x_test.shape, y_train.shape"
      ]
    },
    {
      "cell_type": "markdown",
      "metadata": {
        "nteract": {
          "transient": {
            "deleting": false
          }
        }
      },
      "source": [
        "**Visualize Data**"
      ]
    },
    {
      "cell_type": "code",
      "execution_count": 6,
      "metadata": {
        "gather": {
          "logged": 1696923831268
        },
        "jupyter": {
          "outputs_hidden": false,
          "source_hidden": false
        },
        "nteract": {
          "transient": {
            "deleting": false
          }
        }
      },
      "outputs": [],
      "source": [
        "# visualize mnist data\n",
        "import matplotlib.pyplot as plt"
      ]
    },
    {
      "cell_type": "code",
      "execution_count": 7,
      "metadata": {
        "gather": {
          "logged": 1696923833954
        },
        "jupyter": {
          "outputs_hidden": false,
          "source_hidden": false
        },
        "nteract": {
          "transient": {
            "deleting": false
          }
        }
      },
      "outputs": [],
      "source": [
        "# take sample data\n",
        "sample_idx = np.random.randint(1000, size=20)\n",
        "#sample_idx\n",
        "\n",
        "sample_data = x_train[sample_idx,:]"
      ]
    },
    {
      "cell_type": "code",
      "execution_count": 8,
      "metadata": {
        "gather": {
          "logged": 1696923836550
        },
        "jupyter": {
          "outputs_hidden": false,
          "source_hidden": false
        },
        "nteract": {
          "transient": {
            "deleting": false
          }
        }
      },
      "outputs": [
        {
          "data": {
            "image/png": "[encoded data removed]",
            "text/plain": [
              "<Figure size 1500x1000 with 20 Axes>"
            ]
          },
          "metadata": {},
          "output_type": "display_data"
        }
      ],
      "source": [
        "fig, ax = plt.subplots(4, 5, figsize = (15, 10))\n",
        "ax = ax.ravel()\n",
        "\n",
        "for i, arr in enumerate(sample_data):\n",
        "    arr = np.expand_dims(arr,-1)\n",
        "    ax[i].imshow(arr)\n",
        "    ax[i].axis('off')"
      ]
    },
    {
      "cell_type": "code",
      "execution_count": 9,
      "metadata": {
        "gather": {
          "logged": 1696924433755
        },
        "jupyter": {
          "outputs_hidden": false,
          "source_hidden": false
        },
        "nteract": {
          "transient": {
            "deleting": false
          }
        }
      },
      "outputs": [
        {
          "name": "stdout",
          "output_type": "stream",
          "text": [
            "Found data asset. Will not create again\n"
          ]
        }
      ],
      "source": [
        "# register data\n",
        "from azure.ai.ml.entities import Data\n",
        "from azure.ai.ml.constants import AssetTypes\n",
        "\n",
        "data_path = \"data/mnist.npz\"\n",
        "\n",
        "try:\n",
        "    registered_data_asset = ml_client.data.get(name=\"mnist\", version=\"1\")\n",
        "    print(\"Found data asset. Will not create again\")\n",
        "except Exception as ex:\n",
        "    my_data = Data(\n",
        "        path=data_path,\n",
        "        type=AssetTypes.URI_FILE,\n",
        "        description=\"Mnist Data\",\n",
        "        name=\"mnist\",\n",
        "        version=\"1\",\n",
        "    )\n",
        "    ml_client.data.create_or_update(my_data)\n",
        "    \n",
        "    registered_data_asset = ml_client.data.get(name=\"mnist\", version=\"1\")\n",
        "    print(\"Created data asset\")\n",
        "\n"
      ]
    },
    {
      "cell_type": "code",
      "execution_count": 10,
      "metadata": {
        "gather": {
          "logged": 1696924437357
        },
        "jupyter": {
          "outputs_hidden": false,
          "source_hidden": false
        },
        "nteract": {
          "transient": {
            "deleting": false
          }
        }
      },
      "outputs": [
        {
          "data": {
            "text/plain": [
              "'azureml://subscriptions/3f5e04ab-2448-47b6-b4ec-4720cbde8c43/resourcegroups/ML-pipeline/workspaces/ML-pipeline/datastores/workspaceblobstore/paths/LocalUpload/7e36c7e0386e2d9f06457b4c8698ec39/mnist.npz'"
            ]
          },
          "execution_count": 10,
          "metadata": {},
          "output_type": "execute_result"
        }
      ],
      "source": [
        "registered_data_asset.path"
      ]
    },
    {
      "cell_type": "markdown",
      "metadata": {
        "nteract": {
          "transient": {
            "deleting": false
          }
        }
      },
      "source": [
        "#### Create compute cluster"
      ]
    },
    {
      "cell_type": "code",
      "execution_count": 11,
      "metadata": {
        "gather": {
          "logged": 1696924445501
        },
        "jupyter": {
          "outputs_hidden": false,
          "source_hidden": false
        },
        "nteract": {
          "transient": {
            "deleting": false
          }
        }
      },
      "outputs": [
        {
          "name": "stdout",
          "output_type": "stream",
          "text": [
            "Creating a new cpu compute target...\n",
            "AMLCompute with name cpu-cluster will be created, with compute size STANDARD_DS3_V2\n"
          ]
        }
      ],
      "source": [
        "from azure.ai.ml.entities import AmlCompute\n",
        "\n",
        "# Name assigned to the compute cluster\n",
        "cpu_compute_target = \"cpu-cluster\"\n",
        "\n",
        "try:\n",
        "    # let's see if the compute target already exists\n",
        "    cpu_cluster = ml_client.compute.get(cpu_compute_target)\n",
        "    print(\n",
        "        f\"You already have a cluster named {cpu_compute_target}, we'll reuse it as is.\"\n",
        "    )\n",
        "\n",
        "except Exception:\n",
        "    print(\"Creating a new cpu compute target...\")\n",
        "\n",
        "    # Let's create the Azure Machine Learning compute object with the intended parameters\n",
        "    # if you run into an out of quota error, change the size to a comparable VM that is available.\n",
        "    # Learn more on https://azure.microsoft.com/en-us/pricing/details/machine-learning/.\n",
        "    cpu_cluster = AmlCompute(\n",
        "        name=cpu_compute_target,\n",
        "        # Azure Machine Learning Compute is the on-demand VM service\n",
        "        type=\"amlcompute\",\n",
        "        # VM Family\n",
        "        size=\"STANDARD_DS3_V2\",\n",
        "        # Minimum running nodes when there is no job running\n",
        "        min_instances=0,\n",
        "        # Nodes in cluster\n",
        "        max_instances=4,\n",
        "        # How many seconds will the node running after the job termination\n",
        "        idle_time_before_scale_down=180,\n",
        "        # Dedicated or LowPriority. The latter is cheaper but there is a chance of job termination\n",
        "        tier=\"Dedicated\",\n",
        "    )\n",
        "    print(\n",
        "        f\"AMLCompute with name {cpu_cluster.name} will be created, with compute size {cpu_cluster.size}\"\n",
        "    )\n",
        "    # Now, we pass the object to MLClient's create_or_update method\n",
        "    cpu_cluster = ml_client.compute.begin_create_or_update(cpu_cluster)"
      ]
    },
    {
      "cell_type": "markdown",
      "metadata": {
        "nteract": {
          "transient": {
            "deleting": false
          }
        }
      },
      "source": [
        "#### Data Preparation component"
      ]
    },
    {
      "cell_type": "code",
      "execution_count": 12,
      "metadata": {
        "gather": {
          "logged": 1696924468976
        },
        "jupyter": {
          "outputs_hidden": false,
          "source_hidden": false
        },
        "nteract": {
          "transient": {
            "deleting": false
          }
        }
      },
      "outputs": [],
      "source": [
        "import os\n",
        "\n",
        "data_prep_src_dir = \"./tensorflow/components/data_prep\"\n",
        "os.makedirs(data_prep_src_dir, exist_ok=True)"
      ]
    },
    {
      "cell_type": "code",
      "execution_count": 13,
      "metadata": {
        "jupyter": {
          "outputs_hidden": false,
          "source_hidden": false
        },
        "nteract": {
          "transient": {
            "deleting": false
          }
        }
      },
      "outputs": [
        {
          "name": "stdout",
          "output_type": "stream",
          "text": [
            "Overwriting ./tensorflow/components/data_prep/data_prep.py\n"
          ]
        }
      ],
      "source": [
        "%%writefile {data_prep_src_dir}/data_prep.py\n",
        "import os\n",
        "import argparse\n",
        "import numpy as np\n",
        "import mlflow\n",
        "from sklearn.model_selection import train_test_split\n",
        "\n",
        "def load_data(path):\n",
        "    with np.load(path) as f:\n",
        "        x_train, y_train = f['x_train'], f['y_train']\n",
        "        x_test, y_test = f['x_test'], f['y_test']\n",
        "        return (x_train, y_train), (x_test, y_test)\n",
        "\n",
        "def main():\n",
        "    \"\"\"Main function of the script.\"\"\"\n",
        "\n",
        "    # input and output arguments\n",
        "    parser = argparse.ArgumentParser()\n",
        "    parser.add_argument(\"--data\", type=str, help=\"path to input data\")\n",
        "    parser.add_argument(\"--train_val_ratio\", type=float, help=\"train test ratio for split\", default = 0.25, required=False)\n",
        "    parser.add_argument(\"--partition_data\", type=str, help=\"path to store data after partition\")\n",
        "    #parser.add_argument(\"--val_data\", type=str, help=\"path to store validation data\")\n",
        "    #parser.add_argument(\"--test_data\", type=str, help=\"path to test data\")\n",
        "\n",
        "    args = parser.parse_args()\n",
        "\n",
        "    with mlflow.start_run():\n",
        "\n",
        "        (x_train, y_train), (x_test, y_test) = load_data(args.data)\n",
        "        print(x_train.shape, y_train.shape)\n",
        "        print(x_test.shape, y_test.shape)\n",
        "\n",
        "        mlflow.log_metric(\"raw_train_samples\", x_train.shape[0])\n",
        "        mlflow.log_metric(\"raw_test_samples\", x_test.shape[0])\n",
        "\n",
        "        # make train and validation splits\n",
        "        x_train, x_val, y_train, y_val = train_test_split(x_train, y_train, test_size=args.train_val_ratio)\n",
        "        print(x_train.shape, y_train.shape)\n",
        "        print(x_val.shape, y_val.shape)\n",
        "\n",
        "        mlflow.log_metric(\"train_samples\", x_train.shape[0])\n",
        "        mlflow.log_metric(\"val_samples\", x_val.shape[0])\n",
        "\n",
        "        # save the data\n",
        "        np.savez(os.path.join(args.partition_data, \"data.npz\"), \n",
        "                x_train = x_train, y_train = y_train,\n",
        "                x_val = x_val, y_val = y_val,\n",
        "                x_test = x_test, y_test = y_test)\n",
        "       \n",
        "        #np.savez(os.path.join(args.val_data, \"data.npz\"), x_val = x_val, y_val = y_val)\n",
        "        #np.savez(os.path.join(args.test_data, \"data.npz\"), x_test = x_test, y_test = y_test)\n",
        "\n",
        "\n",
        "if __name__ == \"__main__\":\n",
        "    main()"
      ]
    },
    {
      "cell_type": "code",
      "execution_count": 20,
      "metadata": {
        "gather": {
          "logged": 1696925392193
        },
        "jupyter": {
          "outputs_hidden": false,
          "source_hidden": false
        },
        "nteract": {
          "transient": {
            "deleting": false
          }
        }
      },
      "outputs": [],
      "source": [
        "from azure.ai.ml import command\n",
        "from azure.ai.ml import Input, Output\n",
        "\n",
        "data_prep_mnist = command(\n",
        "    name=\"data_prep_mnist\",\n",
        "    display_name=\"Data preparation for training\",\n",
        "    description=\"read mnist data and create train, val, test sets\",\n",
        "    inputs = {\n",
        "        \"data\": Input(type=\"uri_file\", mode = 'ro_mount'),\n",
        "        #\"ratio\": Input(type = \"number\", default = 0.25),\n",
        "    },\n",
        "\n",
        "     outputs={\n",
        "        \"partition_data\":  Output(type=\"uri_folder\", mode=\"rw_mount\")\n",
        "        #\"train_data\": Output(type=\"uri_folder\", mode=\"rw_mount\"),\n",
        "        #\"val_data\": Output(type = \"uri_folder\", mode = \"rw_mount\"),\n",
        "        #\"test_data\": Output(type=\"uri_folder\", mode=\"rw_mount\")\n",
        "     },\n",
        "\n",
        "    \n",
        "    # The source folder of the component\n",
        "    code = data_prep_src_dir,\n",
        "    command = \"\"\"python data_prep.py \\\n",
        "            --data ${{inputs.data}} \\\n",
        "            --train_val_ratio 0.25\\\n",
        "            --partition_data ${{outputs.partition_data}}\n",
        "\n",
        "            \"\"\",\n",
        "    environment= \"azureml://registries/azureml/environments/sklearn-1.1/versions/4\",\n",
        "    #compute=cpu_compute_target\n",
        ")\n"
      ]
    },
    {
      "cell_type": "code",
      "execution_count": 21,
      "metadata": {
        "gather": {
          "logged": 1696925404384
        },
        "jupyter": {
          "outputs_hidden": false,
          "source_hidden": false
        },
        "nteract": {
          "transient": {
            "deleting": false
          }
        }
      },
      "outputs": [
        {
          "name": "stdout",
          "output_type": "stream",
          "text": [
            "Component data_prep_mnist with Version 2023-10-10-08-10-02-3020572 is registered\n"
          ]
        }
      ],
      "source": [
        "# register the data prep component\n",
        "data_prep_mnist_component = ml_client.create_or_update(data_prep_mnist.component)\n",
        "\n",
        "print(\n",
        "    f\"Component {data_prep_mnist_component.name} with Version {data_prep_mnist_component.version} is registered\"\n",
        ")"
      ]
    },
    {
      "cell_type": "markdown",
      "metadata": {
        "nteract": {
          "transient": {
            "deleting": false
          }
        }
      },
      "source": [
        "#### Training Component"
      ]
    },
    {
      "cell_type": "code",
      "execution_count": 17,
      "metadata": {
        "gather": {
          "logged": 1696924866351
        },
        "jupyter": {
          "outputs_hidden": false,
          "source_hidden": false
        },
        "nteract": {
          "transient": {
            "deleting": false
          }
        }
      },
      "outputs": [],
      "source": [
        "import os\n",
        "\n",
        "train_src_dir = \"./tensorflow/components/train\"\n",
        "os.makedirs(train_src_dir, exist_ok=True)"
      ]
    },
    {
      "cell_type": "code",
      "execution_count": 18,
      "metadata": {
        "jupyter": {
          "outputs_hidden": false,
          "source_hidden": false
        },
        "nteract": {
          "transient": {
            "deleting": false
          }
        }
      },
      "outputs": [
        {
          "name": "stdout",
          "output_type": "stream",
          "text": [
            "Overwriting ./tensorflow/components/train/train.py\n"
          ]
        }
      ],
      "source": [
        "%%writefile {train_src_dir}/train.py\n",
        "import argparse\n",
        "import os\n",
        "import pandas as pd\n",
        "import numpy as np\n",
        "import mlflow\n",
        "\n",
        "import tensorflow as tf\n",
        "from tensorflow.keras.models import Sequential\n",
        "from tensorflow.keras.layers import Conv2D, MaxPooling2D, Dense, Flatten, Dropout, Reshape\n",
        "from tensorflow.keras.optimizers import Adam\n",
        "\n",
        "\n",
        "def load_data(folder_path):\n",
        "    \"\"\"Selects first file in folder, use under assumption there is only one file in folder\"\"\"\n",
        "    files = os.listdir(folder_path)\n",
        "    file_path = os.path.join(folder_path, files[0])\n",
        "    with np.load(file_path) as f:\n",
        "        x_train, y_train = f['x_train'], f['y_train']\n",
        "        x_val, y_val     = f['x_val'], f['y_val']\n",
        "        x_test, y_test   = f['x_test'], f['y_test']\n",
        "\n",
        "        return (x_train, y_train), (x_val, y_val), (x_test, y_test)\n",
        "    \n",
        "\n",
        "def train_model(x_train, y_train, x_val, y_val, epochs=1, lr_rate = 0.003):\n",
        "    \n",
        "    model = Sequential()\n",
        "    \n",
        "    model.add(Reshape((28,28,1), input_shape = (28,28)))\n",
        "    \n",
        "    model.add(Conv2D(64, (5, 5),\n",
        "                      padding=\"same\",\n",
        "                      activation=\"relu\",\n",
        "                      input_shape=(28, 28, 1)))\n",
        "     \n",
        "    model.add(MaxPooling2D(pool_size=(2, 2)))\n",
        "    model.add(Conv2D(128, (5, 5), padding=\"same\",\n",
        "                      activation=\"relu\"))\n",
        "     \n",
        "    model.add(MaxPooling2D(pool_size=(2, 2)))\n",
        "    model.add(Conv2D(256, (5, 5), padding=\"same\",\n",
        "                      activation=\"relu\"))\n",
        "     \n",
        "    model.add(MaxPooling2D(pool_size=(2, 2)))\n",
        "     \n",
        "    model.add(Flatten())\n",
        "    model.add(Dense(256, activation=\"relu\"))\n",
        "    model.add(Dropout(0.4))\n",
        "     \n",
        "    model.add(Dense(10, activation=\"softmax\"))\n",
        "    \n",
        "\n",
        "    model.compile(optimizer=Adam(learning_rate = lr_rate),\n",
        "                  loss=tf.keras.losses.SparseCategoricalCrossentropy(),\n",
        "                  metrics=['accuracy'])\n",
        "    \n",
        "    model.fit(x_train, y_train, \n",
        "              validation_data = (x_val, y_val),\n",
        "              batch_size = 64,\n",
        "              epochs=epochs)\n",
        "\n",
        "    return model\n",
        "\n",
        "\n",
        "def evaluate(model, x_test, y_test):\n",
        "    loss, acc = model.evaluate(x_test, y_test)\n",
        "    return (loss, acc)\n",
        "\n",
        "\n",
        "def main():\n",
        "    \"\"\"Main function of the script.\"\"\"\n",
        "\n",
        "    # input and output arguments\n",
        "    parser = argparse.ArgumentParser()\n",
        "    parser.add_argument(\"--data\", type=str, help=\"path to data\")\n",
        "    parser.add_argument(\"--epochs\", required=False, default=20, type=int)\n",
        "    parser.add_argument(\"--learning_rate\", required=False, default=0.003, type=float)\n",
        "    parser.add_argument(\"--registered_model_name\", type=str, help=\"model name\")\n",
        "    parser.add_argument(\"--model\", type=str, help=\"path to model file\")\n",
        "\n",
        "    args = parser.parse_args()\n",
        "\n",
        "\n",
        "    with mlflow.start_run():\n",
        "\n",
        "        mlflow.tensorflow.autolog(log_models = False)\n",
        "\n",
        "        # load_data\n",
        "        (x_train, y_train), (x_val, y_val), (x_test, y_test) = load_data(folder_path= args.data)\n",
        "\n",
        "        # train model\n",
        "        model = train_model(x_train = x_train, y_train = y_train,\n",
        "                            x_val = x_val, y_val = y_val,\n",
        "                            epochs = args.epochs,\n",
        "                            lr_rate = args.learning_rate)\n",
        "        \n",
        "        loss, acc = evaluate(model = model, x_test=x_test, y_test=y_test) \n",
        "\n",
        "        mlflow.log_metrics({'loss': loss,\n",
        "                            \"accuracy\":acc})\n",
        "\n",
        "        # Registering the model to the workspace\n",
        "        print(\"Registering the model via MLFlow\")\n",
        "        mlflow.tensorflow.log_model(\n",
        "            model=model,        \n",
        "            registered_model_name=args.registered_model_name,\n",
        "            artifact_path=args.registered_model_name,\n",
        "        )\n",
        "\n",
        "        # Saving the model to a file\n",
        "        mlflow.tensorflow.save_model(\n",
        "            model = model,\n",
        "            path = os.path.join(args.model, \"mnist_model\"),\n",
        "        )\n",
        "\n",
        "if __name__ == \"__main__\":\n",
        "    main()\n"
      ]
    },
    {
      "cell_type": "code",
      "execution_count": 19,
      "metadata": {
        "gather": {
          "logged": 1696925063579
        },
        "jupyter": {
          "outputs_hidden": false,
          "source_hidden": false
        },
        "nteract": {
          "transient": {
            "deleting": false
          }
        }
      },
      "outputs": [],
      "source": [
        "# training component\n",
        "from azure.ai.ml import command\n",
        "from azure.ai.ml import Input, Output\n",
        "\n",
        "data_folder = ml_client.data.get(\"azureml_data_prep_mnist_9_output_data_partition_data\", version = 1)\n",
        "\n",
        "train_mnist = command(\n",
        "    name=\"train_mnist\",\n",
        "    display_name=\"Training Mnist\",\n",
        "    description=\"Training Mnist classification\",\n",
        "    inputs = {\n",
        "        \"data\": Input(type=\"uri_folder\", path = data_folder.path, mode = 'ro_mount'),\n",
        "        #\"registered_model_name\": Input(type = \"string\", default = \"mnist_keras_model\"),\n",
        "    },\n",
        "\n",
        "     outputs={\n",
        "        \"model\":  Output(type=\"uri_folder\", mode=\"rw_mount\")\n",
        "     },\n",
        "\n",
        "    \n",
        "    # The source folder of the component\n",
        "    code = train_src_dir,\n",
        "    command = \"\"\"python train.py \\\n",
        "            --data ${{inputs.data}} \\\n",
        "            --epochs 5 \\\n",
        "            --learning_rate 0.001\\\n",
        "            --registered_model_name \"mnist_model\"\\\n",
        "            --model ${{outputs.model}}\n",
        "\n",
        "            \"\"\",\n",
        "    environment= \"azureml://registries/azureml/environments/tensorflow-2.12-cuda11/versions/12\",\n",
        "    #compute=cpu_compute_target\n",
        ")"
      ]
    },
    {
      "cell_type": "code",
      "execution_count": 22,
      "metadata": {
        "gather": {
          "logged": 1696925609837
        },
        "jupyter": {
          "outputs_hidden": false,
          "source_hidden": false
        },
        "nteract": {
          "transient": {
            "deleting": false
          }
        }
      },
      "outputs": [
        {
          "name": "stdout",
          "output_type": "stream",
          "text": [
            "Component train_mnist with Version 1 is registered\n"
          ]
        }
      ],
      "source": [
        "# register the train component\n",
        "mnist_train_component = ml_client.create_or_update(train_mnist.component)\n",
        "print(\n",
        "    f\"Component {mnist_train_component.name} with Version {mnist_train_component.version} is registered\"\n",
        ")\n"
      ]
    },
    {
      "cell_type": "markdown",
      "metadata": {
        "nteract": {
          "transient": {
            "deleting": false
          }
        }
      },
      "source": [
        "#### Pipeline"
      ]
    },
    {
      "cell_type": "code",
      "execution_count": 23,
      "metadata": {
        "gather": {
          "logged": 1696925667196
        },
        "jupyter": {
          "outputs_hidden": false,
          "source_hidden": false
        },
        "nteract": {
          "transient": {
            "deleting": false
          }
        }
      },
      "outputs": [],
      "source": [
        "from azure.ai.ml import dsl, Input, Output"
      ]
    },
    {
      "cell_type": "code",
      "execution_count": 27,
      "metadata": {
        "gather": {
          "logged": 1696926686844
        },
        "jupyter": {
          "outputs_hidden": false,
          "source_hidden": false
        },
        "nteract": {
          "transient": {
            "deleting": false
          }
        }
      },
      "outputs": [],
      "source": [
        "@dsl.pipeline(\n",
        "    compute = cpu_compute_target,\n",
        "    description = \"ml pipeline to train mnist classification with tensorflow\",\n",
        "    #experiment_name = \"mnist_pipeline\"\n",
        ")\n",
        "\n",
        "def mnist_tensorflow_pipeline(\n",
        "    pipeline_job_input_data):\n",
        "\n",
        "    # use data prep component\n",
        "    data_prep_job = data_prep_mnist_component(\n",
        "        data = pipeline_job_input_data\n",
        "    )\n",
        "\n",
        "    # use train component\n",
        "    train_job = mnist_train_component(\n",
        "        data = data_prep_job.outputs.partition_data\n",
        "    )\n",
        "\n",
        "    return {\n",
        "        \"pipeline_job_train_data\": data_prep_job.outputs.partition_data,\n",
        "        \"pipeline_job_model\": train_job.outputs.model,\n",
        "    }   \n"
      ]
    },
    {
      "cell_type": "code",
      "execution_count": 28,
      "metadata": {
        "gather": {
          "logged": 1696926687873
        },
        "jupyter": {
          "outputs_hidden": false,
          "source_hidden": false
        },
        "nteract": {
          "transient": {
            "deleting": false
          }
        }
      },
      "outputs": [],
      "source": [
        "# Let's instantiate the pipeline with the parameters of our choice\n",
        "pipeline = mnist_tensorflow_pipeline(\n",
        "    pipeline_job_input_data = Input(type=\"uri_file\", path=registered_data_asset.path)\n",
        "    )"
      ]
    },
    {
      "cell_type": "code",
      "execution_count": null,
      "metadata": {
        "gather": {
          "logged": 1696928564464
        },
        "jupyter": {
          "outputs_hidden": false,
          "source_hidden": false
        },
        "nteract": {
          "transient": {
            "deleting": false
          }
        }
      },
      "outputs": [],
      "source": [
        "# submit the job\n",
        "pipeline_job = ml_client.jobs.create_or_update(\n",
        "    job = pipeline,\n",
        "    experiment_name = \"mnist tensorflow pipeline\"\n",
        ")\n",
        "\n",
        "ml_client.jobs.stream(pipeline_job.name)"
      ]
    }
  ],
  "metadata": {
    "kernel_info": {
      "name": "python310-sdkv2"
    },
    "kernelspec": {
      "display_name": "Python 3.10 - SDK v2",
      "language": "python",
      "name": "python310-sdkv2"
    },
    "language_info": {
      "codemirror_mode": {
        "name": "ipython",
        "version": 3
      },
      "file_extension": ".py",
      "mimetype": "text/x-python",
      "name": "python",
      "nbconvert_exporter": "python",
      "pygments_lexer": "ipython3",
      "version": "3.10.11"
    },
    "microsoft": {
      "host": {
        "AzureML": {
          "notebookHasBeenCompleted": true
        }
      },
      "ms_spell_check": {
        "ms_spell_check_language": "en"
      }
    },
    "nteract": {
      "version": "nteract-front-end@1.0.0"
    }
  },
  "nbformat": 4,
  "nbformat_minor": 2
}
